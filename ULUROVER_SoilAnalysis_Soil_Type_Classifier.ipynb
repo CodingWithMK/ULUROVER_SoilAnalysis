{
  "cells": [
    {
      "cell_type": "markdown",
      "id": "29e159ca-ac15-425e-afac-160f8656efaf",
      "metadata": {
        "id": "29e159ca-ac15-425e-afac-160f8656efaf"
      },
      "source": [
        "**ULUROVER_SoilAnalysis_1**"
      ]
    },
    {
      "cell_type": "markdown",
      "id": "ad0dbb17-32f9-4eee-a042-187e8f70168b",
      "metadata": {
        "id": "ad0dbb17-32f9-4eee-a042-187e8f70168b"
      },
      "source": [
        "***Importing Required Libraries***"
      ]
    },
    {
      "cell_type": "code",
      "execution_count": null,
      "id": "e5c0a744-ecf7-4481-b68a-14586b8c44e0",
      "metadata": {
        "id": "e5c0a744-ecf7-4481-b68a-14586b8c44e0"
      },
      "outputs": [],
      "source": [
        "import os\n",
        "import re\n",
        "import cv2\n",
        "import numpy as np\n",
        "from os import listdir\n",
        "from os.path import isfile, join\n",
        "from random import randrange\n",
        "import matplotlib.pyplot as plt\n",
        "from tensorflow.python.keras import layers, models\n",
        "from tensorflow.keras.preprocessing.image import ImageDataGenerator\n",
        "import time"
      ]
    },
    {
      "cell_type": "markdown",
      "id": "d7a17162-7dc7-45e5-b412-93688e599660",
      "metadata": {
        "id": "d7a17162-7dc7-45e5-b412-93688e599660"
      },
      "source": [
        "***Loading Data***"
      ]
    },
    {
      "cell_type": "code",
      "execution_count": null,
      "id": "ed52fd1d-838b-4c11-87cc-0ab7ed3fe66c",
      "metadata": {
        "id": "ed52fd1d-838b-4c11-87cc-0ab7ed3fe66c"
      },
      "outputs": [],
      "source": [
        "train_data_dir = 'D:/Users/kayai/Downloads/ULUROVER_SoilAnalysis_SoilTypes/train'\n",
        "test_data_dir = 'D:/Users/kayai/Downloads/ULUROVER_SoilAnalysis_SoilTypes/test'"
      ]
    },
    {
      "cell_type": "code",
      "execution_count": null,
      "id": "ffee93eb-0b1e-4d78-8e1f-48eebadc3ce3",
      "metadata": {
        "id": "ffee93eb-0b1e-4d78-8e1f-48eebadc3ce3"
      },
      "outputs": [],
      "source": [
        "img_height = 224\n",
        "img_width = 223\n",
        "\n",
        "batch_size = 32"
      ]
    },
    {
      "cell_type": "markdown",
      "id": "71c89cba-8cf8-452b-9b91-de435f2882f2",
      "metadata": {
        "id": "71c89cba-8cf8-452b-9b91-de435f2882f2"
      },
      "source": [
        "***Model Building***"
      ]
    },
    {
      "cell_type": "markdown",
      "id": "71848ddd-5555-46e2-b632-9251e5c01c42",
      "metadata": {
        "id": "71848ddd-5555-46e2-b632-9251e5c01c42"
      },
      "source": [
        "*Choosing Model Parameters*"
      ]
    },
    {
      "cell_type": "code",
      "execution_count": null,
      "id": "e6daeced-4dd3-48a8-9561-10a653e46b3f",
      "metadata": {
        "id": "e6daeced-4dd3-48a8-9561-10a653e46b3f"
      },
      "outputs": [],
      "source": [
        "num_conv_layers = 3\n",
        "num_dense_layers = 2\n",
        "layer_size = 28 # Limitting layer size to prevent overfitting\n",
        "num_training_epochs = 5\n",
        "MODEL_NAME = 'soil'\n",
        "\n",
        "CLASSES = ['clay', 'gravel', 'humus', 'sand', 'silt']"
      ]
    },
    {
      "cell_type": "markdown",
      "id": "9ced1dd4-1604-476d-b9a4-213be435c904",
      "metadata": {
        "id": "9ced1dd4-1604-476d-b9a4-213be435c904"
      },
      "source": [
        "***Defining Model Architecture***"
      ]
    },
    {
      "cell_type": "code",
      "execution_count": null,
      "id": "d59896d1-5db2-44a9-ad4f-3b2566bc4a6a",
      "metadata": {
        "id": "d59896d1-5db2-44a9-ad4f-3b2566bc4a6a"
      },
      "outputs": [],
      "source": [
        "model = models.Sequential([\n",
        "    layers.Conv2D(32, (3, 3), activation='relu', input_shape=(img_height, img_width, 3)),\n",
        "    layers.MaxPooling2D((2, 2)),\n",
        "    layers.Conv2D(64, (3, 3), activation='relu'),\n",
        "    layers.MaxPooling2D((2, 2)),\n",
        "    layers.Conv2D(128, (3, 3), activation='relu'),\n",
        "    layers.MaxPooling2D((2, 2)),\n",
        "    layers.Conv2D(128, (3, 3), activation='relu'),\n",
        "    layers.MaxPooling2D((2, 2)),\n",
        "    layers.Flatten(),\n",
        "    layers.Dense(512, activation='relu'),\n",
        "    layers.Dense(num_dense_layers, activation='softmax')\n",
        "])"
      ]
    },
    {
      "cell_type": "code",
      "execution_count": null,
      "id": "a571ef44-5068-4d44-81dc-a12f27911529",
      "metadata": {
        "id": "a571ef44-5068-4d44-81dc-a12f27911529"
      },
      "outputs": [],
      "source": [
        "model.compile(optimizer='adam',\n",
        "              loss='sparse_categorical_crossentropy',\n",
        "              metrics=['accuracy'])"
      ]
    },
    {
      "cell_type": "markdown",
      "id": "abfbaf3c-75fe-4790-ba47-f4fda08eac95",
      "metadata": {
        "id": "abfbaf3c-75fe-4790-ba47-f4fda08eac95"
      },
      "source": [
        "***Preprocessing Data***"
      ]
    },
    {
      "cell_type": "code",
      "execution_count": null,
      "id": "ae2c4d9f-8dad-4a34-baa9-63af3da1a9a0",
      "metadata": {
        "id": "ae2c4d9f-8dad-4a34-baa9-63af3da1a9a0"
      },
      "outputs": [],
      "source": [
        "train_datagen = ImageDataGenerator(\n",
        "    rescale=1./255,\n",
        "    horizontal_flip = True,\n",
        "    zoom_range = 0.2,\n",
        "    rotation_range = 10,\n",
        "    shear_range = 0.2,\n",
        "    height_shift_range = 0.1,\n",
        "    width_shift_range = 0.1\n",
        ")"
      ]
    },
    {
      "cell_type": "code",
      "execution_count": null,
      "id": "25863033-7678-463a-a772-f1518e8cb116",
      "metadata": {
        "id": "25863033-7678-463a-a772-f1518e8cb116"
      },
      "outputs": [],
      "source": [
        "# it is not necessary to create multiple variations for the testing images\n",
        "test_datagen = ImageDataGenerator(rescale=1./255)"
      ]
    },
    {
      "cell_type": "code",
      "execution_count": null,
      "id": "0b15b6ce-b402-4f16-b576-b8bfaaf202e9",
      "metadata": {
        "id": "0b15b6ce-b402-4f16-b576-b8bfaaf202e9",
        "outputId": "3ab5e742-330e-4eb6-a738-e0a473ed1cf0"
      },
      "outputs": [
        {
          "name": "stdout",
          "output_type": "stream",
          "text": [
            "Found 15 images belonging to 5 classes.\n"
          ]
        }
      ],
      "source": [
        "train_generator = train_datagen.flow_from_directory(\n",
        "    train_data_dir,\n",
        "    target_size = (img_height, img_width),\n",
        "    batch_size = batch_size,\n",
        "    class_mode = 'sparse'\n",
        ")"
      ]
    },
    {
      "cell_type": "code",
      "execution_count": null,
      "id": "86bad138-b078-4506-9607-3fc7c40c6201",
      "metadata": {
        "id": "86bad138-b078-4506-9607-3fc7c40c6201",
        "outputId": "3745dfed-758d-4b8b-93b2-9accbdfbc484"
      },
      "outputs": [
        {
          "name": "stdout",
          "output_type": "stream",
          "text": [
            "Found 15 images belonging to 5 classes.\n"
          ]
        }
      ],
      "source": [
        "validation_generator = test_datagen.flow_from_directory(\n",
        "    test_data_dir,\n",
        "    target_size = (img_height, img_width),\n",
        "    batch_size = batch_size,\n",
        "    class_mode = 'sparse',\n",
        "    shuffle = False\n",
        ")"
      ]
    },
    {
      "cell_type": "markdown",
      "id": "29aaa16b-0fc0-4754-80e6-04816786867c",
      "metadata": {
        "id": "29aaa16b-0fc0-4754-80e6-04816786867c"
      },
      "source": [
        "***Model Training***"
      ]
    },
    {
      "cell_type": "code",
      "execution_count": null,
      "id": "e2e9b15b-ee4e-4fe9-9e99-14df23ac1a47",
      "metadata": {
        "id": "e2e9b15b-ee4e-4fe9-9e99-14df23ac1a47"
      },
      "outputs": [],
      "source": [
        "history = model.fit(\n",
        "    train_generator,\n",
        "    steps_per_epoch = train_generator.samples // batch_size,\n",
        "    validation_data = validation_generator,\n",
        "    validation_steps = validation_generator.samples // batch_size,\n",
        "    epochs = num_training_epochs\n",
        ")"
      ]
    },
    {
      "cell_type": "markdown",
      "id": "b9b9289d-f374-45a7-b3ff-52253a1e8b6b",
      "metadata": {
        "id": "b9b9289d-f374-45a7-b3ff-52253a1e8b6b"
      },
      "source": [
        "***Model Evaluation***"
      ]
    },
    {
      "cell_type": "code",
      "execution_count": null,
      "id": "d2f08143-2856-48eb-a1aa-63c0636f0a32",
      "metadata": {
        "id": "d2f08143-2856-48eb-a1aa-63c0636f0a32"
      },
      "outputs": [],
      "source": [
        "test_loss, test_acc = model.evaluate(validation_generator, verbose=2)\n",
        "print('\\nTest Accuracy: ', test_acc)"
      ]
    },
    {
      "cell_type": "markdown",
      "id": "a377d180-1a89-4cdf-96e2-7b30b6373c15",
      "metadata": {
        "id": "a377d180-1a89-4cdf-96e2-7b30b6373c15"
      },
      "source": [
        "***Saving Trained Model***"
      ]
    },
    {
      "cell_type": "code",
      "execution_count": null,
      "id": "0d28ff14-4d9d-4863-8e03-ad5f3c8ba8d0",
      "metadata": {
        "id": "0d28ff14-4d9d-4863-8e03-ad5f3c8ba8d0"
      },
      "outputs": [],
      "source": [
        "model.save('ULUROVER_Soil_Type_Classifier.h5')"
      ]
    },
    {
      "cell_type": "code",
      "execution_count": null,
      "id": "e1906cfc-1d27-4210-8b69-87fd4530ee78",
      "metadata": {
        "id": "e1906cfc-1d27-4210-8b69-87fd4530ee78"
      },
      "outputs": [],
      "source": []
    }
  ],
  "metadata": {
    "kernelspec": {
      "display_name": "Python 3 (ipykernel)",
      "language": "python",
      "name": "python3"
    },
    "language_info": {
      "codemirror_mode": {
        "name": "ipython",
        "version": 3
      },
      "file_extension": ".py",
      "mimetype": "text/x-python",
      "name": "python",
      "nbconvert_exporter": "python",
      "pygments_lexer": "ipython3",
      "version": "3.11.3"
    },
    "colab": {
      "provenance": []
    }
  },
  "nbformat": 4,
  "nbformat_minor": 5
}